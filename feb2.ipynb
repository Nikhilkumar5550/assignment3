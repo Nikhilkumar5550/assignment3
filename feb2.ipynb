{
 "cells": [
  {
   "cell_type": "code",
   "execution_count": null,
   "id": "a69e20e5-9d82-45f8-b153-5eae847b1edf",
   "metadata": {},
   "outputs": [],
   "source": [
    "Question 1. What are the characteristics of the tuples? Is tuple immutable?\n",
    "Ans :Below are the characteristics of the tuples:\n",
    "\n",
    "    1)Tuples are ordered.\n",
    "    2)Tuples are indexed.\n",
    "    3)Tuples are immutable.\n",
    "Yes tuple is immutable."
   ]
  },
  {
   "cell_type": "code",
   "execution_count": null,
   "id": "83475925-2966-4612-bc67-94f2a585c325",
   "metadata": {},
   "outputs": [],
   "source": [
    "Question 2. What are the two tuple methods in python? Give an example of each method. Give a reason why tuples have only two in-built methods as compared to Lists.\n",
    "Ans: There two methods in tuple as below:\n",
    "          1. count()\n",
    "          2. index()\n",
    "Below are the example of count() and index():"
   ]
  },
  {
   "cell_type": "code",
   "execution_count": 1,
   "id": "4b63e366-aefb-400b-89fd-22d0b4ae9c0a",
   "metadata": {},
   "outputs": [
    {
     "name": "stdout",
     "output_type": "stream",
     "text": [
      "3\n"
     ]
    }
   ],
   "source": [
    "## example of  count() method: here it will print the count of element 1 occured in tup \n",
    "tup=(1,2,3,5,2,4,6,8,1,2)\n",
    "x=tup.count(2)\n",
    "print(x)"
   ]
  },
  {
   "cell_type": "code",
   "execution_count": 2,
   "id": "c219cd38-0eab-49a1-9178-a389fa9119ab",
   "metadata": {},
   "outputs": [
    {
     "name": "stdout",
     "output_type": "stream",
     "text": [
      "3\n"
     ]
    }
   ],
   "source": [
    "## example of  index() method: here it will print the index of ist occuring element 2 in tup1e\n",
    "tup1=(1,1,3,2,1,2,4,2)\n",
    "x=tup1.index(2)\n",
    "print(x)"
   ]
  },
  {
   "cell_type": "code",
   "execution_count": null,
   "id": "941a4c6f-0af2-4e68-b9b9-f2ef796662e3",
   "metadata": {},
   "outputs": [],
   "source": [
    "Reason:-\n",
    "Tuples have only two in-built count() and index() methods as compared to Lists because tuples are immutable and on other hand list are mutable. Tuples\n",
    "cannot be change they are just read only, they always remain the same and constant."
   ]
  },
  {
   "cell_type": "code",
   "execution_count": null,
   "id": "2a31b468-ec62-43de-bbd5-11164aed6a44",
   "metadata": {},
   "outputs": [],
   "source": [
    "Q3: Which collection datatypes in python do not allow duplicate items? Write a code using a set to remove duplicates from the given list. \n",
    "     List = [1, 1, 1, 2, 1, 3, 1, 4, 2, 1, 2, 2, 2, 3, 2, 4, 3, 1, 3, 2, 3, 3, 3, 4, 4, 1, 4, 2, 4, 3, 4, 4]\n",
    "Ans: In python set do not allow duplicate items."
   ]
  },
  {
   "cell_type": "code",
   "execution_count": 3,
   "id": "7aee4598-7d8c-42fa-b203-a30f28ee3a1f",
   "metadata": {},
   "outputs": [
    {
     "name": "stdout",
     "output_type": "stream",
     "text": [
      "{3, 4, 5, 6, 7, 8, 9, 78}\n"
     ]
    }
   ],
   "source": [
    "# code to remove duplicate items from the list\n",
    "List = [5,6,7,8,9,7,8,6,5,9,7,6,4,3,6,78,8,9,5,6,4,3]\n",
    "print(set(List))"
   ]
  },
  {
   "cell_type": "code",
   "execution_count": null,
   "id": "99bbf9be-df33-4ffb-9153-c2b72fd3b321",
   "metadata": {},
   "outputs": [],
   "source": [
    "Question 4. Explain the difference between the union() and update() methods for a set. Give an example of each method.\n",
    "Ans:\n",
    "      Difference between union() and update() for set is explained as below.\n",
    "       s = {1,2,3,4}\n",
    "       t = {4,5,6,7}\n",
    "    union() = In union it display the new set with elements from both s and t\n",
    "    update() = In update it will return the set s with elements added from t"
   ]
  },
  {
   "cell_type": "code",
   "execution_count": 5,
   "id": "de078feb-adbd-4526-a320-5090e9fa920d",
   "metadata": {},
   "outputs": [
    {
     "name": "stdout",
     "output_type": "stream",
     "text": [
      "{64, 130, 'nikhil', 'for', '90', 'reddy', 'MAA', 21}\n"
     ]
    }
   ],
   "source": [
    "# example of union() for a set\n",
    "s1={130,\"nikhil\",\"reddy\",64}\n",
    "s2={21,\"MAA\",\"90\",\"for\"}\n",
    "print(s1.union(s2))"
   ]
  },
  {
   "cell_type": "code",
   "execution_count": 6,
   "id": "7a2855c8-a000-4d51-a2af-43b9d20bc276",
   "metadata": {},
   "outputs": [
    {
     "name": "stdout",
     "output_type": "stream",
     "text": [
      "{7, 'bfs', 'abc', 8, 9}\n"
     ]
    }
   ],
   "source": [
    "# example of update() for a set\n",
    "A = {'abc', 'bfs'}\n",
    "B = {9, 8, 7}\n",
    "A.update(B)\n",
    "print(A)"
   ]
  },
  {
   "cell_type": "code",
   "execution_count": null,
   "id": "950c0098-9d0b-4a20-9eff-a4c2938dd162",
   "metadata": {},
   "outputs": [],
   "source": [
    "Question 5. What is a dictionary? Give an example. Also, state whether a dictionary is ordered or unordered.\n",
    "Ans:   Dictionaries are used to store data values in key:value pairs."
   ]
  },
  {
   "cell_type": "code",
   "execution_count": 7,
   "id": "e664a91e-27b1-4489-8fc4-96ad447080e8",
   "metadata": {},
   "outputs": [
    {
     "name": "stdout",
     "output_type": "stream",
     "text": [
      "{'name': 'Nikhil', 'course': 'Data Science Masters', 'number': 64545454545}\n"
     ]
    }
   ],
   "source": [
    "#Example of dictionary\n",
    "dict_1={\"name\":\"Nikhil\",\"course\":\"Data Science Masters\",\"number\":64545454545}\n",
    "print(dict_1)"
   ]
  },
  {
   "cell_type": "code",
   "execution_count": null,
   "id": "0fc7659f-9941-45c5-a4c6-67760e6e9438",
   "metadata": {},
   "outputs": [],
   "source": [
    "A dictionary is a ordered."
   ]
  },
  {
   "cell_type": "code",
   "execution_count": null,
   "id": "e3b1bf41-36cf-40b5-8414-fe0c60a95d6f",
   "metadata": {},
   "outputs": [],
   "source": [
    "Question 6:Q6. Can we create a nested dictionary? If so, please give an example by creating a simple one-level nested dictionary.\n",
    "Answer: Yes we can create a nested dictionary. below one is example of nested dictionary"
   ]
  },
  {
   "cell_type": "code",
   "execution_count": 8,
   "id": "70cdc695-8d6d-4fd8-bd44-7be5b782169f",
   "metadata": {},
   "outputs": [
    {
     "name": "stdout",
     "output_type": "stream",
     "text": [
      "{'key1': {'name': 'reddy', 'surname': 'zyx'}, 'key2': {'name2': 'nikhil', 'surname': 'abc'}}\n"
     ]
    }
   ],
   "source": [
    "# example of nested dictioary.\n",
    "dict_2 = {\"key1\" : {\"name\" : \"reddy\",\"surname\" :\"zyx\"},\"key2\" : {\"name2\" : \"nikhil\",\"surname\" : \"abc\"}}\n",
    "print(dict_2)"
   ]
  },
  {
   "cell_type": "code",
   "execution_count": 12,
   "id": "3b180cb7-883a-4a78-9f32-7739de349d96",
   "metadata": {},
   "outputs": [],
   "source": [
    "Question 7. Using setdefault() method, create key named topics in the given dictionary and also add the value of the key as this \n",
    "list ['Python', 'Machine Learning’, 'Deep Learning'] "
   ]
  },
  {
   "cell_type": "code",
   "execution_count": 13,
   "id": "64df2d85-9145-4627-be25-0d3d54061da4",
   "metadata": {},
   "outputs": [
    {
     "name": "stdout",
     "output_type": "stream",
     "text": [
      "{'language': 'Python', 'course': 'Data Science Masters', 'topics': ['Python', 'Machine Learning', 'Deep Learning']}\n"
     ]
    }
   ],
   "source": [
    "# creating a key with value using setdefault method and storing it dictionary dict1.\n",
    "dict1 = {'language' : 'Python', 'course': 'Data Science Masters'}\n",
    "dict1.setdefault('topics',['Python','Machine Learning','Deep Learning'] )\n",
    "print(dict1)"
   ]
  },
  {
   "cell_type": "code",
   "execution_count": null,
   "id": "0681b151-1e67-4837-861c-54d6ad3bac78",
   "metadata": {},
   "outputs": [],
   "source": [
    "Q8. What are the three view objects in dictionaries? Use the three in-built methods in python to display these three view objects for the given dictionary.\n",
    "dict1 = {'Sport': 'Cricket' , 'Teams': ['India', 'Australia', 'England', 'South Africa', 'Sri Lanka', 'New Zealand']}\n",
    "\n",
    "Answer: The three main view objects of dictionary in python are keys, values and items. Below are examples of three view objects \n",
    "          keys(), values() and items() of dictionary."
   ]
  },
  {
   "cell_type": "code",
   "execution_count": 15,
   "id": "7c37279c-53d5-4ac7-add5-d64b28db2f1c",
   "metadata": {},
   "outputs": [],
   "source": [
    "dict1 = {'Sport': 'Cricket' , 'Teams': ['India', 'Australia', 'England', 'South Africa', 'Sri Lanka', 'New Zealand']} \n",
    "#below one will display the keys of dictionary\n",
    "d1=dict1.keys()\n",
    "#from below statement it will display the values of dictionary\n",
    "d2=dict1.values()\n",
    "#displaying the items of dictionary\n",
    "d3=dict1.items()"
   ]
  },
  {
   "cell_type": "code",
   "execution_count": null,
   "id": "be19abfb-feac-406c-8257-7853564077bb",
   "metadata": {},
   "outputs": [],
   "source": [
    "print()"
   ]
  },
  {
   "cell_type": "code",
   "execution_count": null,
   "id": "963052f0-8cc8-480b-85df-7cacc443d66b",
   "metadata": {},
   "outputs": [],
   "source": []
  }
 ],
 "metadata": {
  "kernelspec": {
   "display_name": "Python 3 (ipykernel)",
   "language": "python",
   "name": "python3"
  },
  "language_info": {
   "codemirror_mode": {
    "name": "ipython",
    "version": 3
   },
   "file_extension": ".py",
   "mimetype": "text/x-python",
   "name": "python",
   "nbconvert_exporter": "python",
   "pygments_lexer": "ipython3",
   "version": "3.10.8"
  }
 },
 "nbformat": 4,
 "nbformat_minor": 5
}
